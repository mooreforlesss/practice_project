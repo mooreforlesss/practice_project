{
 "cells": [
  {
   "cell_type": "code",
   "execution_count": null,
   "id": "da0afe0e-62bb-47c5-b1b4-b5e2c912af92",
   "metadata": {},
   "outputs": [],
   "source": [
    "# Import the required modules\n",
    "import pandas as pd\n",
    "pd.set_option('display.max_columns', None)\n",
    "import numpy as np\n",
    "\n",
    "# visualization\n",
    "import matplotlib.pyplot as plt\n",
    "import seaborn as sns\n",
    "\n",
    "# Machine Learning\n",
    "from sklearn.model_selection import train_test_split\n",
    "from sklearn.linear_model import LogisticRegression, LinearRegression, Lasso, Ridge, ElasticNet\n",
    "from sklearn.tree import DecisionTreeRegressor\n",
    "from sklearn.ensemble import RandomForestRegressor, AdaBoostRegressor, ExtraTreesRegressor, GradientBoostingRegressor\n",
    "from sklearn.svm import SVC\n",
    "from sklearn.neighbors import KNeighborsClassifier\n",
    "from sklearn.metrics import r2_score, mean_squared_error, mean_absolute_error\n",
    "from sklearn.preprocessing import StandardScaler\n",
    "\n",
    "# suppress warnings\n",
    "import warnings\n",
    "warnings.filterwarnings('ignore')"
   ]
  },
  {
   "cell_type": "code",
   "execution_count": null,
   "id": "99b22a0d-9960-4246-b8de-fb2ff63dc399",
   "metadata": {},
   "outputs": [],
   "source": [
    "# Read the CSV file from the Resources folder into a Pandas DataFrame\n",
    "df_full = pd.read_csv('used_clean.csv')\n",
    "\n",
    "# Review the DataFrame\n",
    "df_full.head()"
   ]
  },
  {
   "cell_type": "code",
   "execution_count": null,
   "id": "c6c6d867-2fd7-40ec-a160-3ac11ce08e08",
   "metadata": {},
   "outputs": [],
   "source": [
    "col = ['price', 'miles', 'year', 'make', 'model', 'body_type',\n",
    "       'vehicle_type', 'drivetrain', 'transmission', 'fuel_type',\n",
    "       'engine_size', 'engine_block', 'state']\n",
    "\n",
    "df = df_full[col].copy()"
   ]
  },
  {
   "cell_type": "code",
   "execution_count": null,
   "id": "7ceadc09-54e4-4eb3-8e9e-2ad9501d1735",
   "metadata": {},
   "outputs": [],
   "source": [
    "df.columns"
   ]
  },
  {
   "cell_type": "code",
   "execution_count": null,
   "id": "9bef8f4e-311b-4b06-906c-5ddc5d2a2a80",
   "metadata": {},
   "outputs": [],
   "source": [
    "columns = ['price', 'miles', 'year', 'make', 'model', 'body_type',\n",
    "       'vehicle_type', 'drivetrain', 'transmission', 'fuel_type',\n",
    "       'engine_size', 'engine_block', 'state']\n",
    "for col in columns:\n",
    "    print(col)\n",
    "    print(df[col].nunique())\n",
    "    print(df[col].value_counts())"
   ]
  },
  {
   "cell_type": "code",
   "execution_count": null,
   "id": "c4d6665b-9fd2-4565-85d0-f708f43efa70",
   "metadata": {},
   "outputs": [],
   "source": [
    "df[\"engine_size\"] = df[\"engine_size\"].apply(lambda x: 0 if x == 'E' else x)\n",
    "df.head()"
   ]
  },
  {
   "cell_type": "code",
   "execution_count": null,
   "id": "f695896a-2767-4cc4-a922-3c8322388a14",
   "metadata": {},
   "outputs": [],
   "source": [
    "df.engine_size = df.engine_size.astype(float)"
   ]
  },
  {
   "cell_type": "code",
   "execution_count": null,
   "id": "55a8b449-e69a-4f84-8f03-6331f3a3e60c",
   "metadata": {},
   "outputs": [],
   "source": [
    "def label_engine_size(engine):\n",
    "    if 0.1 <= engine < 2:\n",
    "        return 1\n",
    "    elif 2 <= engine < 3:\n",
    "        return 2\n",
    "    elif 3 <= engine < 4:\n",
    "        return 3\n",
    "    elif 4 <= engine < 5:\n",
    "        return 4\n",
    "    elif 5 <= engine < 6:\n",
    "        return 5\n",
    "    elif 6 <= engine < 7:\n",
    "        return 6\n",
    "    elif 7 <= engine < 8:\n",
    "        return 7\n",
    "    else:\n",
    "        return 0\n",
    "\n",
    "# Apply the custom function to the 'fuel_type' column\n",
    "df['engine_size'] = df['engine_size'].apply(label_engine_size)\n",
    "\n",
    "# Show the modified DataFrame\n",
    "df.head(10)"
   ]
  },
  {
   "cell_type": "code",
   "execution_count": null,
   "id": "dfe6097c-d20c-48d8-bceb-3c8554820d0a",
   "metadata": {},
   "outputs": [],
   "source": [
    "df.engine_size.value_counts()"
   ]
  },
  {
   "cell_type": "code",
   "execution_count": null,
   "id": "b2c408e6-fc28-4d4d-a025-53a740b526ad",
   "metadata": {},
   "outputs": [],
   "source": [
    "df.info()"
   ]
  },
  {
   "cell_type": "code",
   "execution_count": null,
   "id": "bfeac319-72af-4f20-adb9-a408be7535ad",
   "metadata": {},
   "outputs": [],
   "source": [
    "df.describe()"
   ]
  },
  {
   "cell_type": "code",
   "execution_count": null,
   "id": "5a503d8b-c3a2-4e07-9176-1e6d4291f863",
   "metadata": {},
   "outputs": [],
   "source": [
    "['price', 'miles', 'year', 'make', 'model' 'body_type',\n",
    "       'vehicle_type', 'drivetrain', 'transmission', 'fuel_type',\n",
    "       'engine_size', 'engine_block', 'city', 'state']\n",
    "# Encoding, separate out features\n",
    "meta = ['price']\n",
    "num_features = ['miles', 'year', 'engine_size']\n",
    "cat_features = ['make', 'model', 'body_type', 'vehicle_type', 'drivetrain', 'transmission', 'fuel_type', 'engine_block', 'state']"
   ]
  },
  {
   "cell_type": "code",
   "execution_count": null,
   "id": "a9f6e1e2-d1ee-488f-8f21-987e06c9194b",
   "metadata": {},
   "outputs": [],
   "source": [
    "# NUMERIC FIRST - Do we need a SCALER?\n",
    "df_num = df.loc[:, num_features]\n",
    "df_num.describe()"
   ]
  },
  {
   "cell_type": "code",
   "execution_count": null,
   "id": "1012bf95-3eb6-4df4-967e-5f8187d8ed2a",
   "metadata": {},
   "outputs": [],
   "source": [
    "# YES we need a scaler\n",
    "\n",
    "# initialize\n",
    "scaler = StandardScaler()\n",
    "\n",
    "# fit\n",
    "scaler.fit(df_num)\n",
    "\n",
    "# predict/transform\n",
    "scaled_data = scaler.transform(df_num)\n",
    "df_scaled = pd.DataFrame(scaled_data, columns=num_features)\n",
    "\n",
    "df_scaled.head()"
   ]
  },
  {
   "cell_type": "code",
   "execution_count": null,
   "id": "a045de38-068f-487d-b200-b35f4a750866",
   "metadata": {},
   "outputs": [],
   "source": [
    "# Categorical Up Next\n",
    "df_cat = df.loc[:, cat_features]\n",
    "df_cat.head()"
   ]
  },
  {
   "cell_type": "code",
   "execution_count": null,
   "id": "2046c52f-b4ab-460f-9d35-0ff16d2231af",
   "metadata": {},
   "outputs": [],
   "source": [
    "df_cat[\"vehicle_type\"] = df_cat.vehicle_type.apply(lambda x: 0 if x == \"Truck\" else 1)\n",
    "df_cat.head()"
   ]
  },
  {
   "cell_type": "code",
   "execution_count": null,
   "id": "ad479d54-384f-48b8-88f0-10402a4ebb86",
   "metadata": {},
   "outputs": [],
   "source": [
    "df_cat[\"transmission\"] = df_cat.transmission.apply(lambda x: 0 if x == \"Automatic\" else 1)\n",
    "df_cat.head()"
   ]
  },
  {
   "cell_type": "code",
   "execution_count": null,
   "id": "269d061f-75ba-4a61-9728-5d55cb241fb6",
   "metadata": {},
   "outputs": [],
   "source": [
    "cutoff = 1000\n",
    "application_types_to_replace = df_cat.model.value_counts()[df_cat.model.value_counts() < cutoff].index.tolist()\n",
    "\n",
    "# Replace in dataframe\n",
    "for app in application_types_to_replace:\n",
    "    df_cat['model'] = df_cat['model'].replace(app,\"Other\")\n",
    "\n",
    "# Check to make sure replacement was successful\n",
    "df_cat['model'].value_counts()"
   ]
  },
  {
   "cell_type": "code",
   "execution_count": null,
   "id": "b514f3de-2fc2-4d66-b756-6334d1eeca59",
   "metadata": {},
   "outputs": [],
   "source": [
    "df_cat.head()"
   ]
  },
  {
   "cell_type": "code",
   "execution_count": null,
   "id": "4eae05c5-3124-42d5-a4af-f667f4cf5818",
   "metadata": {},
   "outputs": [],
   "source": [
    "#cutoff = 500\n",
    "#application_types_to_replace = df_cat.trim.value_counts()[df_cat.trim.value_counts() < cutoff].index.tolist()\n",
    "\n",
    "# Replace in dataframe\n",
    "#for app in application_types_to_replace:\n",
    "    #df_cat['trim'] = df_cat['trim'].replace(app,\"Other\")\n",
    "\n",
    "# Check to make sure replacement was successful\n",
    "#df_cat['trim'].value_counts()"
   ]
  },
  {
   "cell_type": "code",
   "execution_count": null,
   "id": "0d327cf3-12a1-4b32-b2bb-546c991439de",
   "metadata": {},
   "outputs": [],
   "source": [
    "def label_fuel_type(fuel):\n",
    "    fuel = fuel.lower()  # Convert to lowercase for consistent matching\n",
    "    if 'diesel' in fuel:\n",
    "        return 'Diesel'\n",
    "    elif 'electric' in fuel and '/' in fuel:\n",
    "        return 'Hybrid'\n",
    "    elif fuel == 'electric':\n",
    "        return 'Electric'\n",
    "    else:\n",
    "        return 'Gas'\n",
    "\n",
    "# Apply the custom function to the 'fuel_type' column\n",
    "df_cat['fuel_type'] = df_cat['fuel_type'].apply(label_fuel_type)\n",
    "\n",
    "# Show the modified DataFrame\n",
    "df_cat.head(10)"
   ]
  },
  {
   "cell_type": "code",
   "execution_count": null,
   "id": "a654b8c3-4e2e-4197-a287-269bc4c8f961",
   "metadata": {},
   "outputs": [],
   "source": [
    "df_cat.fuel_type.value_counts()"
   ]
  },
  {
   "cell_type": "code",
   "execution_count": null,
   "id": "943fef80-a62f-4b19-8b31-7ab75ab4d4f7",
   "metadata": {},
   "outputs": [],
   "source": [
    "def label_body_type(body):\n",
    "    if 'Car Van'  in body or 'Combi' in body:\n",
    "        return 'Cargo Van'\n",
    "    elif 'Targa' in body or 'Roadster' in body:\n",
    "        return 'Coupe'\n",
    "    elif 'Cutaway' in body or 'Chassis Cab' in body:\n",
    "        return 'Pickup'\n",
    "    elif 'Targa' in body:\n",
    "        return 'Roadster'\n",
    "    elif 'Mini Mpv' in body:\n",
    "        return 'Hatchback'\n",
    "    elif 'Passenger Van' in body:\n",
    "        return 'Minivan'\n",
    "    else:\n",
    "        return body\n",
    "\n",
    "# Apply the custom function to the 'fuel_type' column\n",
    "df_cat['body_type'] = df_cat['body_type'].apply(label_body_type)\n",
    "\n",
    "# Show the modified DataFrame\n",
    "df_cat.head(10)"
   ]
  },
  {
   "cell_type": "code",
   "execution_count": null,
   "id": "f87ebf40-42a8-4a87-9495-1f907c0d9b38",
   "metadata": {},
   "outputs": [],
   "source": [
    "df_cat.body_type.value_counts()"
   ]
  },
  {
   "cell_type": "code",
   "execution_count": null,
   "id": "8d9e8748-f817-4357-92aa-cebbd54c39c7",
   "metadata": {},
   "outputs": [],
   "source": [
    "df_cat = pd.get_dummies(df_cat, dtype=int)\n",
    "df_cat.head()"
   ]
  },
  {
   "cell_type": "code",
   "execution_count": null,
   "id": "280dfb05-703b-48ea-aacf-438e0b3a878a",
   "metadata": {},
   "outputs": [],
   "source": [
    "roadster_rows = df[df['price'] == 349900]\n",
    "roadster_rows"
   ]
  },
  {
   "cell_type": "code",
   "execution_count": null,
   "id": "2d0e3161-831d-4dd7-bfd1-638e51306fa6",
   "metadata": {},
   "outputs": [],
   "source": [
    "df_final = df.loc[:, meta]\n",
    "df_final = pd.concat([df_final, df_scaled], axis=1)\n",
    "df_final = pd.concat([df_final, df_cat], axis=1)\n",
    "df_final.head()"
   ]
  },
  {
   "cell_type": "code",
   "execution_count": null,
   "id": "aa11f6f8-e300-43fb-8e3e-7ba82f2d73e3",
   "metadata": {},
   "outputs": [],
   "source": [
    "# Get value counts for the 'price' column\n",
    "price_counts = df_final['price'].value_counts()\n",
    "\n",
    "# Filter to show only the prices with counts greater than 1\n",
    "filtered_price_counts = price_counts[price_counts > 1]\n",
    "\n",
    "# Display the filtered results\n",
    "print(filtered_price_counts)"
   ]
  },
  {
   "cell_type": "code",
   "execution_count": null,
   "id": "6e76e9f2-9310-488a-99be-457a4c3b899d",
   "metadata": {},
   "outputs": [],
   "source": [
    "# Step 1: Get the data\n",
    "X = df_final.drop(columns=[\"price\"])\n",
    "y = df_final.price\n",
    "\n",
    "y = np.log(y)\n",
    "\n",
    "X = X.astype('float32')\n",
    "\n",
    "X_train, X_test, y_train, y_test = train_test_split(X, y, test_size=0.25, random_state=1) # stratify=True maintains target class percentages\n",
    "print(X_train.shape, X_test.shape)"
   ]
  },
  {
   "cell_type": "code",
   "execution_count": null,
   "id": "317f6038-dae0-400b-ac5b-41aa89229dea",
   "metadata": {},
   "outputs": [],
   "source": [
    "# Function for Regression\n",
    "def doRegression(model, X_train, X_test, y_train, y_test):\n",
    "    # Step 3: Fit the model\n",
    "    model.fit(X_train, y_train)\n",
    "    \n",
    "    # Step 4: Evaluate the model\n",
    "    train_preds = model.predict(X_train)\n",
    "    test_preds = model.predict(X_test)\n",
    "\n",
    "    # Generate metrics TRAIN\n",
    "    train_r2 = r2_score(y_train, train_preds)\n",
    "    train_mse = mean_squared_error(y_train, train_preds)\n",
    "    train_mae = mean_absolute_error(y_train, train_preds)\n",
    "    train_rmse = np.sqrt(train_mse)\n",
    "    \n",
    "    train_results = f\"\"\"TRAIN METRICS\n",
    "    R2: {train_r2}\n",
    "    MSE: {train_mse}\n",
    "    RMSE: {train_rmse}\n",
    "    MAE: {train_mae}\n",
    "    \"\"\"\n",
    "    \n",
    "    print(train_results)\n",
    "\n",
    "    # Generate metrics TEST\n",
    "    test_r2 = r2_score(y_test, test_preds)\n",
    "    test_mse = mean_squared_error(y_test, test_preds)\n",
    "    test_mae = mean_absolute_error(y_test, test_preds)\n",
    "    test_rmse = np.sqrt(test_mse)\n",
    "    \n",
    "    test_results = f\"\"\"TEST METRICS\n",
    "    R2: {test_r2}\n",
    "    MSE: {test_mse}\n",
    "    RMSE: {test_rmse}\n",
    "    MAE: {test_mae}\n",
    "    \"\"\"\n",
    "    \n",
    "    print(test_results)\n",
    "\n",
    "    # VISUALIZE TEST RESULTS\n",
    "    # Predicted vs Actual Plot\n",
    "    plt.scatter(y_test, test_preds)\n",
    "    plt.plot(y_test, y_test)\n",
    "    plt.title(\"Predicted vs Actual Plot\")\n",
    "    plt.xlabel(\"Actual\")\n",
    "    plt.ylabel(\"Predicted\")\n",
    "    plt.show()\n",
    "\n",
    "    # Residual Plot\n",
    "    resids = test_preds - y_test\n",
    "    plt.scatter(test_preds, resids)\n",
    "    plt.hlines(0, min(test_preds), max(test_preds))\n",
    "    plt.title(\"Residual Plot\")\n",
    "    plt.xlabel(\"Predictions\")\n",
    "    plt.ylabel(\"Residuals\")\n",
    "    plt.show()"
   ]
  },
  {
   "cell_type": "code",
   "execution_count": null,
   "id": "575713c4-49d1-41b8-bba7-28ca6c5e15e5",
   "metadata": {},
   "outputs": [],
   "source": [
    "# Step 2: Init the Model\n",
    "lr = LinearRegression()\n",
    "\n",
    "# Do Machine Learning\n",
    "doRegression(lr, X_train, X_test, y_train, y_test)"
   ]
  },
  {
   "cell_type": "code",
   "execution_count": null,
   "id": "af2dda56-d07d-4827-b038-7257b3533fb5",
   "metadata": {},
   "outputs": [],
   "source": [
    "# Step 2: Init the Model\n",
    "ridge = Ridge()\n",
    "\n",
    "# Do Machine Learning\n",
    "doRegression(ridge, X_train, X_test, y_train, y_test)"
   ]
  },
  {
   "cell_type": "code",
   "execution_count": null,
   "id": "f87f71e6-d14a-42f8-8160-a113d0ed93f8",
   "metadata": {},
   "outputs": [],
   "source": [
    "# Step 2: Init the Model\n",
    "lasso = Lasso()\n",
    "\n",
    "# Do Machine Learning\n",
    "doRegression(lasso, X_train, X_test, y_train, y_test)"
   ]
  },
  {
   "cell_type": "code",
   "execution_count": null,
   "id": "e29d965a-a4a1-4bd7-a779-c1afe255b258",
   "metadata": {},
   "outputs": [],
   "source": [
    "# Step 2: Init the Model\n",
    "en = ElasticNet()\n",
    "\n",
    "# Do Machine Learning\n",
    "doRegression(en, X_train, X_test, y_train, y_test)"
   ]
  },
  {
   "cell_type": "code",
   "execution_count": null,
   "id": "0bd46017-9ecb-46db-8215-4db15f58abb0",
   "metadata": {},
   "outputs": [],
   "source": [
    "# Step 2: Init the Model\n",
    "dt = DecisionTreeRegressor(random_state=42)\n",
    "\n",
    "# Do Machine Learning\n",
    "doRegression(dt, X_train, X_test, y_train, y_test)"
   ]
  },
  {
   "cell_type": "code",
   "execution_count": null,
   "id": "e6a40a94-f3b8-4d65-aac8-8d8ba7c6c3f8",
   "metadata": {},
   "outputs": [],
   "source": [
    "# Step 2: Init the Model\n",
    "rf = RandomForestRegressor(random_state=42)\n",
    "\n",
    "# Do Machine Learning\n",
    "doRegression(rf, X_train, X_test, y_train, y_test)"
   ]
  },
  {
   "cell_type": "code",
   "execution_count": null,
   "id": "6328fcdd-1c36-42ea-85d3-78521b590a08",
   "metadata": {},
   "outputs": [],
   "source": [
    "# Step 2: Init the Model\n",
    "ada = AdaBoostRegressor(random_state=42)\n",
    "\n",
    "# Do Machine Learning\n",
    "doRegression(ada, X_train, X_test, y_train, y_test)"
   ]
  },
  {
   "cell_type": "code",
   "execution_count": null,
   "id": "7c52b39d-aa58-46f1-8f5a-6cd562171058",
   "metadata": {},
   "outputs": [],
   "source": [
    "# Step 2: Init the Model\n",
    "et = ExtraTreesRegressor(random_state=42)\n",
    "\n",
    "# Do Machine Learning\n",
    "doRegression(et, X_train, X_test, y_train, y_test)"
   ]
  },
  {
   "cell_type": "code",
   "execution_count": null,
   "id": "36532ed4-f908-4416-8b94-899b519c64d0",
   "metadata": {},
   "outputs": [],
   "source": [
    "# Step 2: Init the Model\n",
    "gb = GradientBoostingRegressor(random_state=42)\n",
    "\n",
    "# Do Machine Learning\n",
    "doRegression(gb, X_train, X_test, y_train, y_test)"
   ]
  },
  {
   "cell_type": "code",
   "execution_count": null,
   "id": "8c33cc47-905a-4a43-8299-3b278875d016",
   "metadata": {},
   "outputs": [],
   "source": []
  },
  {
   "cell_type": "code",
   "execution_count": null,
   "id": "165d8d53-9d2f-48f2-93d2-02200449eb14",
   "metadata": {},
   "outputs": [],
   "source": []
  }
 ],
 "metadata": {
  "kernelspec": {
   "display_name": "Python 3 (ipykernel)",
   "language": "python",
   "name": "python3"
  },
  "language_info": {
   "codemirror_mode": {
    "name": "ipython",
    "version": 3
   },
   "file_extension": ".py",
   "mimetype": "text/x-python",
   "name": "python",
   "nbconvert_exporter": "python",
   "pygments_lexer": "ipython3",
   "version": "3.10.14"
  }
 },
 "nbformat": 4,
 "nbformat_minor": 5
}
